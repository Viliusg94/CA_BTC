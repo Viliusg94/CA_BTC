{
 "cells": [
  {
   "cell_type": "markdown",
   "id": "99aed28e",
   "metadata": {},
   "source": []
  },
  {
   "cell_type": "code",
   "execution_count": 1,
   "id": "4801baeb",
   "metadata": {},
   "outputs": [],
   "source": [
    "# Modelių ir prekybos strategijų hiperparametrų optimizavimas (BTC/USDT)\n",
    "#\n",
    "# Šiame notebook bus testuojami įvairūs neuroninių tinklų hiperparametrai (epochs, batch_size, learning_rate, dropout ir kt.)\n",
    "# Taip pat bus testuojami prekybos strategijų parametrai (stop-loss, take-profit, pozicijos dydis).\n",
    "# Visi rezultatai bus įrašyti į ataskaitos lentelę."
   ]
  },
  {
   "cell_type": "code",
   "execution_count": 2,
   "id": "054ed29d",
   "metadata": {},
   "outputs": [],
   "source": [
    "# Reikalingų bibliotekų importavimas\n",
    "import numpy as np\n",
    "import pandas as pd\n",
    "import tensorflow as tf\n",
    "from tensorflow.keras import layers, models, optimizers\n",
    "from sklearn.model_selection import train_test_split, ParameterGrid\n",
    "from sklearn.preprocessing import MinMaxScaler\n",
    "from sklearn.metrics import mean_squared_error, mean_absolute_error, r2_score\n",
    "import matplotlib.pyplot as plt\n",
    "import random\n",
    "import os\n",
    "\n",
    "np.random.seed(42)\n",
    "tf.random.set_seed(42)"
   ]
  },
  {
   "cell_type": "code",
   "execution_count": 3,
   "id": "bec6f481",
   "metadata": {},
   "outputs": [],
   "source": [
    "# Duomenų paruošimas (naudojamas tas pats kaip kituose modeliuose)\n",
    "import requests\n",
    "from datetime import datetime, timedelta\n",
    "\n",
    "def get_historical_klines(symbol=\"BTCUSDT\", interval=\"15m\", start_time=None, end_time=None):\n",
    "    BINANCE_API_URL = \"https://api.binance.com/api/v3/klines\"\n",
    "    if end_time is None:\n",
    "        end_time = datetime.now()\n",
    "    if start_time is None:\n",
    "        start_time = end_time - timedelta(days=365)\n",
    "    start_ts = int(start_time.timestamp() * 1000)\n",
    "    end_ts = int(end_time.timestamp() * 1000)\n",
    "    all_klines = []\n",
    "    current_start = start_ts\n",
    "    while current_start < end_ts:\n",
    "        params = {\n",
    "            'symbol': symbol,\n",
    "            'interval': interval,\n",
    "            'startTime': current_start,\n",
    "            'endTime': end_ts,\n",
    "            'limit': 1000\n",
    "        }\n",
    "        try:\n",
    "            response = requests.get(BINANCE_API_URL, params=params)\n",
    "            response.raise_for_status()\n",
    "            klines = response.json()\n",
    "            if not klines:\n",
    "                break\n",
    "            all_klines.extend(klines)\n",
    "            current_start = int(klines[-1][0]) + 1\n",
    "        except Exception as e:\n",
    "            print(f\"Klaida gaunant duomenis: {str(e)}\")\n",
    "    if all_klines:\n",
    "        columns = ['time', 'open', 'high', 'low', 'close', 'volume', \n",
    "                   'close_time', 'quote_asset_volume', 'number_of_trades',\n",
    "                   'taker_buy_base_asset_volume', 'taker_buy_quote_asset_volume', 'ignore']\n",
    "        df = pd.DataFrame(all_klines, columns=columns)\n",
    "        df['time'] = pd.to_datetime(df['time'], unit='ms')\n",
    "        numeric_columns = ['open', 'high', 'low', 'close', 'volume']\n",
    "        df[numeric_columns] = df[numeric_columns].astype(float)\n",
    "        return df\n",
    "    return None\n",
    "\n",
    "df = get_historical_klines()\n",
    "df = df.sort_values('time')\n",
    "columns_to_normalize = ['open', 'high', 'low', 'close', 'volume']\n",
    "scaler = MinMaxScaler()\n",
    "df[columns_to_normalize] = scaler.fit_transform(df[columns_to_normalize])\n",
    "\n",
    "def create_sequences(data, target_column, sequence_length):\n",
    "    X, y = [], []\n",
    "    feature_columns = columns_to_normalize\n",
    "    data_array = data[feature_columns].values\n",
    "    target_idx = feature_columns.index(target_column)\n",
    "    for i in range(len(data) - sequence_length):\n",
    "        X.append(data_array[i:i + sequence_length])\n",
    "        y.append(data_array[i + sequence_length, target_idx])\n",
    "    return np.array(X), np.array(y)\n",
    "\n",
    "sequence_length = 10\n",
    "target_column = 'close'\n",
    "X, y = create_sequences(df, target_column, sequence_length)\n",
    "X_train, X_test, y_train, y_test = train_test_split(X, y, test_size=0.2, shuffle=False)"
   ]
  },
  {
   "cell_type": "code",
   "execution_count": 4,
   "id": "9a0addb5",
   "metadata": {},
   "outputs": [
    {
     "name": "stdout",
     "output_type": "stream",
     "text": [
      "Bus testuojama 30 hiperparametrų kombinacijų.\n"
     ]
    }
   ],
   "source": [
    "# Hiperparametrų tinklelis (galite keisti pagal poreikį)\n",
    "param_grid = {\n",
    "    'epochs': [10, 20, 30],\n",
    "    'batch_size': [16, 32, 64],\n",
    "    'learning_rate': [0.001, 0.0005],\n",
    "    'dropout': [0.1, 0.2, 0.3],\n",
    "    'units': [32, 64],\n",
    "    'optimizer': ['adam', 'rmsprop']\n",
    "}\n",
    "grid = list(ParameterGrid(param_grid))\n",
    "random.shuffle(grid)\n",
    "grid = grid[:30]  # Pasirenkame 30 variantų\n",
    "print(f\"Bus testuojama {len(grid)} hiperparametrų kombinacijų.\")"
   ]
  },
  {
   "cell_type": "code",
   "execution_count": 5,
   "id": "87038aec",
   "metadata": {},
   "outputs": [],
   "source": [
    "# Paprastas LSTM modelio kūrimo šablonas\n",
    "def build_lstm_model(input_shape, units=64, dropout=0.2, learning_rate=0.001, optimizer='adam'):\n",
    "    model = models.Sequential()\n",
    "    model.add(layers.LSTM(units, input_shape=input_shape, return_sequences=False))\n",
    "    model.add(layers.Dropout(dropout))\n",
    "    model.add(layers.Dense(1))\n",
    "    if optimizer == 'adam':\n",
    "        opt = optimizers.Adam(learning_rate=learning_rate)\n",
    "    else:\n",
    "        opt = optimizers.RMSprop(learning_rate=learning_rate)\n",
    "    model.compile(optimizer=opt, loss='mse')\n",
    "    return model"
   ]
  },
  {
   "cell_type": "code",
   "execution_count": 6,
   "id": "29bb9e53",
   "metadata": {},
   "outputs": [],
   "source": [
    "# Prekybos strategijos simuliatorius\n",
    "def trading_simulator(y_true, y_pred, stop_loss=0.03, take_profit=0.05, position_size=1.0, fee=0.001):\n",
    "    balance = 1000.0\n",
    "    btc = 0.0\n",
    "    last_action = None\n",
    "    for i in range(1, len(y_pred)):\n",
    "        price_now = y_true[i-1]\n",
    "        price_next = y_true[i]\n",
    "        # Signalas: jei prognozė > dabartinė kaina -> pirkti, jei < -> parduoti\n",
    "        if y_pred[i] > price_now and last_action != 'buy':\n",
    "            btc = balance * position_size * (1 - fee) / price_now\n",
    "            balance -= balance * position_size\n",
    "            last_action = 'buy'\n",
    "            entry_price = price_now\n",
    "        elif y_pred[i] < price_now and last_action == 'buy':\n",
    "            balance += btc * (1 - fee) * price_now\n",
    "            btc = 0\n",
    "            last_action = 'sell'\n",
    "        # Stop-loss / take-profit\n",
    "        if last_action == 'buy':\n",
    "            if (price_now - entry_price) / entry_price <= -stop_loss or (price_now - entry_price) / entry_price >= take_profit:\n",
    "                balance += btc * (1 - fee) * price_now\n",
    "                btc = 0\n",
    "                last_action = 'sell'\n",
    "    if btc > 0:\n",
    "        balance += btc * (1 - fee) * y_true[-1]\n",
    "    return balance"
   ]
  },
  {
   "cell_type": "code",
   "execution_count": 7,
   "id": "d98ca774",
   "metadata": {},
   "outputs": [
    {
     "name": "stdout",
     "output_type": "stream",
     "text": [
      "Bandymas 1/30: {'batch_size': 64, 'dropout': 0.3, 'epochs': 30, 'learning_rate': 0.001, 'optimizer': 'adam', 'units': 64}\n"
     ]
    },
    {
     "name": "stderr",
     "output_type": "stream",
     "text": [
      "d:\\CA_BTC\\venv\\Lib\\site-packages\\keras\\src\\layers\\rnn\\rnn.py:200: UserWarning: Do not pass an `input_shape`/`input_dim` argument to a layer. When using Sequential models, prefer using an `Input(shape)` object as the first layer in the model instead.\n",
      "  super().__init__(**kwargs)\n"
     ]
    },
    {
     "name": "stdout",
     "output_type": "stream",
     "text": [
      "\u001b[1m219/219\u001b[0m \u001b[32m━━━━━━━━━━━━━━━━━━━━\u001b[0m\u001b[37m\u001b[0m \u001b[1m1s\u001b[0m 3ms/step\n",
      "Bandymas 2/30: {'batch_size': 16, 'dropout': 0.2, 'epochs': 10, 'learning_rate': 0.0005, 'optimizer': 'rmsprop', 'units': 64}\n"
     ]
    },
    {
     "name": "stderr",
     "output_type": "stream",
     "text": [
      "d:\\CA_BTC\\venv\\Lib\\site-packages\\keras\\src\\layers\\rnn\\rnn.py:200: UserWarning: Do not pass an `input_shape`/`input_dim` argument to a layer. When using Sequential models, prefer using an `Input(shape)` object as the first layer in the model instead.\n",
      "  super().__init__(**kwargs)\n"
     ]
    },
    {
     "name": "stdout",
     "output_type": "stream",
     "text": [
      "\u001b[1m219/219\u001b[0m \u001b[32m━━━━━━━━━━━━━━━━━━━━\u001b[0m\u001b[37m\u001b[0m \u001b[1m1s\u001b[0m 3ms/step\n",
      "Bandymas 3/30: {'batch_size': 16, 'dropout': 0.1, 'epochs': 10, 'learning_rate': 0.0005, 'optimizer': 'rmsprop', 'units': 32}\n"
     ]
    },
    {
     "name": "stderr",
     "output_type": "stream",
     "text": [
      "d:\\CA_BTC\\venv\\Lib\\site-packages\\keras\\src\\layers\\rnn\\rnn.py:200: UserWarning: Do not pass an `input_shape`/`input_dim` argument to a layer. When using Sequential models, prefer using an `Input(shape)` object as the first layer in the model instead.\n",
      "  super().__init__(**kwargs)\n"
     ]
    },
    {
     "name": "stdout",
     "output_type": "stream",
     "text": [
      "\u001b[1m219/219\u001b[0m \u001b[32m━━━━━━━━━━━━━━━━━━━━\u001b[0m\u001b[37m\u001b[0m \u001b[1m1s\u001b[0m 3ms/step\n",
      "Bandymas 4/30: {'batch_size': 64, 'dropout': 0.3, 'epochs': 30, 'learning_rate': 0.0005, 'optimizer': 'rmsprop', 'units': 64}\n"
     ]
    },
    {
     "name": "stderr",
     "output_type": "stream",
     "text": [
      "d:\\CA_BTC\\venv\\Lib\\site-packages\\keras\\src\\layers\\rnn\\rnn.py:200: UserWarning: Do not pass an `input_shape`/`input_dim` argument to a layer. When using Sequential models, prefer using an `Input(shape)` object as the first layer in the model instead.\n",
      "  super().__init__(**kwargs)\n"
     ]
    },
    {
     "name": "stdout",
     "output_type": "stream",
     "text": [
      "\u001b[1m219/219\u001b[0m \u001b[32m━━━━━━━━━━━━━━━━━━━━\u001b[0m\u001b[37m\u001b[0m \u001b[1m1s\u001b[0m 3ms/step\n",
      "Bandymas 5/30: {'batch_size': 16, 'dropout': 0.2, 'epochs': 20, 'learning_rate': 0.001, 'optimizer': 'rmsprop', 'units': 32}\n"
     ]
    },
    {
     "name": "stderr",
     "output_type": "stream",
     "text": [
      "d:\\CA_BTC\\venv\\Lib\\site-packages\\keras\\src\\layers\\rnn\\rnn.py:200: UserWarning: Do not pass an `input_shape`/`input_dim` argument to a layer. When using Sequential models, prefer using an `Input(shape)` object as the first layer in the model instead.\n",
      "  super().__init__(**kwargs)\n"
     ]
    },
    {
     "name": "stdout",
     "output_type": "stream",
     "text": [
      "\u001b[1m219/219\u001b[0m \u001b[32m━━━━━━━━━━━━━━━━━━━━\u001b[0m\u001b[37m\u001b[0m \u001b[1m1s\u001b[0m 3ms/step\n",
      "Bandymas 6/30: {'batch_size': 64, 'dropout': 0.2, 'epochs': 10, 'learning_rate': 0.001, 'optimizer': 'rmsprop', 'units': 32}\n"
     ]
    },
    {
     "name": "stderr",
     "output_type": "stream",
     "text": [
      "d:\\CA_BTC\\venv\\Lib\\site-packages\\keras\\src\\layers\\rnn\\rnn.py:200: UserWarning: Do not pass an `input_shape`/`input_dim` argument to a layer. When using Sequential models, prefer using an `Input(shape)` object as the first layer in the model instead.\n",
      "  super().__init__(**kwargs)\n"
     ]
    },
    {
     "name": "stdout",
     "output_type": "stream",
     "text": [
      "\u001b[1m219/219\u001b[0m \u001b[32m━━━━━━━━━━━━━━━━━━━━\u001b[0m\u001b[37m\u001b[0m \u001b[1m1s\u001b[0m 3ms/step\n",
      "Bandymas 7/30: {'batch_size': 16, 'dropout': 0.2, 'epochs': 20, 'learning_rate': 0.001, 'optimizer': 'rmsprop', 'units': 64}\n"
     ]
    },
    {
     "name": "stderr",
     "output_type": "stream",
     "text": [
      "d:\\CA_BTC\\venv\\Lib\\site-packages\\keras\\src\\layers\\rnn\\rnn.py:200: UserWarning: Do not pass an `input_shape`/`input_dim` argument to a layer. When using Sequential models, prefer using an `Input(shape)` object as the first layer in the model instead.\n",
      "  super().__init__(**kwargs)\n"
     ]
    },
    {
     "name": "stdout",
     "output_type": "stream",
     "text": [
      "\u001b[1m219/219\u001b[0m \u001b[32m━━━━━━━━━━━━━━━━━━━━\u001b[0m\u001b[37m\u001b[0m \u001b[1m1s\u001b[0m 3ms/step\n",
      "Bandymas 8/30: {'batch_size': 16, 'dropout': 0.2, 'epochs': 30, 'learning_rate': 0.0005, 'optimizer': 'adam', 'units': 64}\n"
     ]
    },
    {
     "name": "stderr",
     "output_type": "stream",
     "text": [
      "d:\\CA_BTC\\venv\\Lib\\site-packages\\keras\\src\\layers\\rnn\\rnn.py:200: UserWarning: Do not pass an `input_shape`/`input_dim` argument to a layer. When using Sequential models, prefer using an `Input(shape)` object as the first layer in the model instead.\n",
      "  super().__init__(**kwargs)\n"
     ]
    },
    {
     "name": "stdout",
     "output_type": "stream",
     "text": [
      "\u001b[1m219/219\u001b[0m \u001b[32m━━━━━━━━━━━━━━━━━━━━\u001b[0m\u001b[37m\u001b[0m \u001b[1m1s\u001b[0m 3ms/step\n",
      "Bandymas 9/30: {'batch_size': 32, 'dropout': 0.2, 'epochs': 10, 'learning_rate': 0.001, 'optimizer': 'rmsprop', 'units': 32}\n"
     ]
    },
    {
     "name": "stderr",
     "output_type": "stream",
     "text": [
      "d:\\CA_BTC\\venv\\Lib\\site-packages\\keras\\src\\layers\\rnn\\rnn.py:200: UserWarning: Do not pass an `input_shape`/`input_dim` argument to a layer. When using Sequential models, prefer using an `Input(shape)` object as the first layer in the model instead.\n",
      "  super().__init__(**kwargs)\n"
     ]
    },
    {
     "name": "stdout",
     "output_type": "stream",
     "text": [
      "\u001b[1m219/219\u001b[0m \u001b[32m━━━━━━━━━━━━━━━━━━━━\u001b[0m\u001b[37m\u001b[0m \u001b[1m1s\u001b[0m 3ms/step\n",
      "Bandymas 10/30: {'batch_size': 16, 'dropout': 0.1, 'epochs': 30, 'learning_rate': 0.0005, 'optimizer': 'adam', 'units': 32}\n"
     ]
    },
    {
     "name": "stderr",
     "output_type": "stream",
     "text": [
      "d:\\CA_BTC\\venv\\Lib\\site-packages\\keras\\src\\layers\\rnn\\rnn.py:200: UserWarning: Do not pass an `input_shape`/`input_dim` argument to a layer. When using Sequential models, prefer using an `Input(shape)` object as the first layer in the model instead.\n",
      "  super().__init__(**kwargs)\n"
     ]
    },
    {
     "name": "stdout",
     "output_type": "stream",
     "text": [
      "\u001b[1m219/219\u001b[0m \u001b[32m━━━━━━━━━━━━━━━━━━━━\u001b[0m\u001b[37m\u001b[0m \u001b[1m1s\u001b[0m 3ms/step\n",
      "Bandymas 11/30: {'batch_size': 64, 'dropout': 0.3, 'epochs': 10, 'learning_rate': 0.001, 'optimizer': 'rmsprop', 'units': 64}\n"
     ]
    },
    {
     "name": "stderr",
     "output_type": "stream",
     "text": [
      "d:\\CA_BTC\\venv\\Lib\\site-packages\\keras\\src\\layers\\rnn\\rnn.py:200: UserWarning: Do not pass an `input_shape`/`input_dim` argument to a layer. When using Sequential models, prefer using an `Input(shape)` object as the first layer in the model instead.\n",
      "  super().__init__(**kwargs)\n"
     ]
    },
    {
     "name": "stdout",
     "output_type": "stream",
     "text": [
      "\u001b[1m219/219\u001b[0m \u001b[32m━━━━━━━━━━━━━━━━━━━━\u001b[0m\u001b[37m\u001b[0m \u001b[1m1s\u001b[0m 3ms/step\n",
      "Bandymas 12/30: {'batch_size': 16, 'dropout': 0.2, 'epochs': 30, 'learning_rate': 0.0005, 'optimizer': 'rmsprop', 'units': 64}\n"
     ]
    },
    {
     "name": "stderr",
     "output_type": "stream",
     "text": [
      "d:\\CA_BTC\\venv\\Lib\\site-packages\\keras\\src\\layers\\rnn\\rnn.py:200: UserWarning: Do not pass an `input_shape`/`input_dim` argument to a layer. When using Sequential models, prefer using an `Input(shape)` object as the first layer in the model instead.\n",
      "  super().__init__(**kwargs)\n"
     ]
    },
    {
     "name": "stdout",
     "output_type": "stream",
     "text": [
      "\u001b[1m219/219\u001b[0m \u001b[32m━━━━━━━━━━━━━━━━━━━━\u001b[0m\u001b[37m\u001b[0m \u001b[1m1s\u001b[0m 3ms/step\n",
      "Bandymas 13/30: {'batch_size': 16, 'dropout': 0.3, 'epochs': 10, 'learning_rate': 0.0005, 'optimizer': 'rmsprop', 'units': 64}\n"
     ]
    },
    {
     "name": "stderr",
     "output_type": "stream",
     "text": [
      "d:\\CA_BTC\\venv\\Lib\\site-packages\\keras\\src\\layers\\rnn\\rnn.py:200: UserWarning: Do not pass an `input_shape`/`input_dim` argument to a layer. When using Sequential models, prefer using an `Input(shape)` object as the first layer in the model instead.\n",
      "  super().__init__(**kwargs)\n"
     ]
    },
    {
     "name": "stdout",
     "output_type": "stream",
     "text": [
      "\u001b[1m219/219\u001b[0m \u001b[32m━━━━━━━━━━━━━━━━━━━━\u001b[0m\u001b[37m\u001b[0m \u001b[1m1s\u001b[0m 3ms/step\n",
      "Bandymas 14/30: {'batch_size': 64, 'dropout': 0.1, 'epochs': 20, 'learning_rate': 0.0005, 'optimizer': 'adam', 'units': 32}\n"
     ]
    },
    {
     "name": "stderr",
     "output_type": "stream",
     "text": [
      "d:\\CA_BTC\\venv\\Lib\\site-packages\\keras\\src\\layers\\rnn\\rnn.py:200: UserWarning: Do not pass an `input_shape`/`input_dim` argument to a layer. When using Sequential models, prefer using an `Input(shape)` object as the first layer in the model instead.\n",
      "  super().__init__(**kwargs)\n"
     ]
    },
    {
     "name": "stdout",
     "output_type": "stream",
     "text": [
      "\u001b[1m219/219\u001b[0m \u001b[32m━━━━━━━━━━━━━━━━━━━━\u001b[0m\u001b[37m\u001b[0m \u001b[1m1s\u001b[0m 3ms/step\n",
      "Bandymas 15/30: {'batch_size': 32, 'dropout': 0.2, 'epochs': 10, 'learning_rate': 0.0005, 'optimizer': 'adam', 'units': 64}\n"
     ]
    },
    {
     "name": "stderr",
     "output_type": "stream",
     "text": [
      "d:\\CA_BTC\\venv\\Lib\\site-packages\\keras\\src\\layers\\rnn\\rnn.py:200: UserWarning: Do not pass an `input_shape`/`input_dim` argument to a layer. When using Sequential models, prefer using an `Input(shape)` object as the first layer in the model instead.\n",
      "  super().__init__(**kwargs)\n"
     ]
    },
    {
     "name": "stdout",
     "output_type": "stream",
     "text": [
      "\u001b[1m219/219\u001b[0m \u001b[32m━━━━━━━━━━━━━━━━━━━━\u001b[0m\u001b[37m\u001b[0m \u001b[1m1s\u001b[0m 3ms/step\n",
      "Bandymas 16/30: {'batch_size': 32, 'dropout': 0.1, 'epochs': 10, 'learning_rate': 0.0005, 'optimizer': 'adam', 'units': 64}\n"
     ]
    },
    {
     "name": "stderr",
     "output_type": "stream",
     "text": [
      "d:\\CA_BTC\\venv\\Lib\\site-packages\\keras\\src\\layers\\rnn\\rnn.py:200: UserWarning: Do not pass an `input_shape`/`input_dim` argument to a layer. When using Sequential models, prefer using an `Input(shape)` object as the first layer in the model instead.\n",
      "  super().__init__(**kwargs)\n"
     ]
    },
    {
     "name": "stdout",
     "output_type": "stream",
     "text": [
      "\u001b[1m219/219\u001b[0m \u001b[32m━━━━━━━━━━━━━━━━━━━━\u001b[0m\u001b[37m\u001b[0m \u001b[1m1s\u001b[0m 3ms/step\n",
      "Bandymas 17/30: {'batch_size': 32, 'dropout': 0.2, 'epochs': 10, 'learning_rate': 0.001, 'optimizer': 'adam', 'units': 32}\n"
     ]
    },
    {
     "name": "stderr",
     "output_type": "stream",
     "text": [
      "d:\\CA_BTC\\venv\\Lib\\site-packages\\keras\\src\\layers\\rnn\\rnn.py:200: UserWarning: Do not pass an `input_shape`/`input_dim` argument to a layer. When using Sequential models, prefer using an `Input(shape)` object as the first layer in the model instead.\n",
      "  super().__init__(**kwargs)\n"
     ]
    },
    {
     "name": "stdout",
     "output_type": "stream",
     "text": [
      "\u001b[1m219/219\u001b[0m \u001b[32m━━━━━━━━━━━━━━━━━━━━\u001b[0m\u001b[37m\u001b[0m \u001b[1m1s\u001b[0m 3ms/step\n",
      "Bandymas 18/30: {'batch_size': 32, 'dropout': 0.2, 'epochs': 20, 'learning_rate': 0.0005, 'optimizer': 'adam', 'units': 32}\n"
     ]
    },
    {
     "name": "stderr",
     "output_type": "stream",
     "text": [
      "d:\\CA_BTC\\venv\\Lib\\site-packages\\keras\\src\\layers\\rnn\\rnn.py:200: UserWarning: Do not pass an `input_shape`/`input_dim` argument to a layer. When using Sequential models, prefer using an `Input(shape)` object as the first layer in the model instead.\n",
      "  super().__init__(**kwargs)\n"
     ]
    },
    {
     "name": "stdout",
     "output_type": "stream",
     "text": [
      "\u001b[1m219/219\u001b[0m \u001b[32m━━━━━━━━━━━━━━━━━━━━\u001b[0m\u001b[37m\u001b[0m \u001b[1m1s\u001b[0m 4ms/step\n",
      "Bandymas 19/30: {'batch_size': 64, 'dropout': 0.1, 'epochs': 20, 'learning_rate': 0.0005, 'optimizer': 'rmsprop', 'units': 32}\n"
     ]
    },
    {
     "name": "stderr",
     "output_type": "stream",
     "text": [
      "d:\\CA_BTC\\venv\\Lib\\site-packages\\keras\\src\\layers\\rnn\\rnn.py:200: UserWarning: Do not pass an `input_shape`/`input_dim` argument to a layer. When using Sequential models, prefer using an `Input(shape)` object as the first layer in the model instead.\n",
      "  super().__init__(**kwargs)\n"
     ]
    },
    {
     "name": "stdout",
     "output_type": "stream",
     "text": [
      "\u001b[1m219/219\u001b[0m \u001b[32m━━━━━━━━━━━━━━━━━━━━\u001b[0m\u001b[37m\u001b[0m \u001b[1m1s\u001b[0m 3ms/step\n",
      "Bandymas 20/30: {'batch_size': 32, 'dropout': 0.1, 'epochs': 30, 'learning_rate': 0.0005, 'optimizer': 'rmsprop', 'units': 32}\n"
     ]
    },
    {
     "name": "stderr",
     "output_type": "stream",
     "text": [
      "d:\\CA_BTC\\venv\\Lib\\site-packages\\keras\\src\\layers\\rnn\\rnn.py:200: UserWarning: Do not pass an `input_shape`/`input_dim` argument to a layer. When using Sequential models, prefer using an `Input(shape)` object as the first layer in the model instead.\n",
      "  super().__init__(**kwargs)\n"
     ]
    },
    {
     "name": "stdout",
     "output_type": "stream",
     "text": [
      "\u001b[1m219/219\u001b[0m \u001b[32m━━━━━━━━━━━━━━━━━━━━\u001b[0m\u001b[37m\u001b[0m \u001b[1m1s\u001b[0m 3ms/step\n",
      "Bandymas 21/30: {'batch_size': 16, 'dropout': 0.1, 'epochs': 30, 'learning_rate': 0.0005, 'optimizer': 'adam', 'units': 64}\n"
     ]
    },
    {
     "name": "stderr",
     "output_type": "stream",
     "text": [
      "d:\\CA_BTC\\venv\\Lib\\site-packages\\keras\\src\\layers\\rnn\\rnn.py:200: UserWarning: Do not pass an `input_shape`/`input_dim` argument to a layer. When using Sequential models, prefer using an `Input(shape)` object as the first layer in the model instead.\n",
      "  super().__init__(**kwargs)\n"
     ]
    },
    {
     "name": "stdout",
     "output_type": "stream",
     "text": [
      "\u001b[1m219/219\u001b[0m \u001b[32m━━━━━━━━━━━━━━━━━━━━\u001b[0m\u001b[37m\u001b[0m \u001b[1m1s\u001b[0m 4ms/step\n",
      "Bandymas 22/30: {'batch_size': 64, 'dropout': 0.2, 'epochs': 30, 'learning_rate': 0.0005, 'optimizer': 'adam', 'units': 32}\n"
     ]
    },
    {
     "name": "stderr",
     "output_type": "stream",
     "text": [
      "d:\\CA_BTC\\venv\\Lib\\site-packages\\keras\\src\\layers\\rnn\\rnn.py:200: UserWarning: Do not pass an `input_shape`/`input_dim` argument to a layer. When using Sequential models, prefer using an `Input(shape)` object as the first layer in the model instead.\n",
      "  super().__init__(**kwargs)\n"
     ]
    },
    {
     "name": "stdout",
     "output_type": "stream",
     "text": [
      "\u001b[1m219/219\u001b[0m \u001b[32m━━━━━━━━━━━━━━━━━━━━\u001b[0m\u001b[37m\u001b[0m \u001b[1m1s\u001b[0m 3ms/step\n",
      "Bandymas 23/30: {'batch_size': 32, 'dropout': 0.2, 'epochs': 30, 'learning_rate': 0.001, 'optimizer': 'adam', 'units': 64}\n"
     ]
    },
    {
     "name": "stderr",
     "output_type": "stream",
     "text": [
      "d:\\CA_BTC\\venv\\Lib\\site-packages\\keras\\src\\layers\\rnn\\rnn.py:200: UserWarning: Do not pass an `input_shape`/`input_dim` argument to a layer. When using Sequential models, prefer using an `Input(shape)` object as the first layer in the model instead.\n",
      "  super().__init__(**kwargs)\n"
     ]
    },
    {
     "name": "stdout",
     "output_type": "stream",
     "text": [
      "\u001b[1m219/219\u001b[0m \u001b[32m━━━━━━━━━━━━━━━━━━━━\u001b[0m\u001b[37m\u001b[0m \u001b[1m1s\u001b[0m 3ms/step\n",
      "Bandymas 24/30: {'batch_size': 16, 'dropout': 0.1, 'epochs': 30, 'learning_rate': 0.001, 'optimizer': 'rmsprop', 'units': 32}\n"
     ]
    },
    {
     "name": "stderr",
     "output_type": "stream",
     "text": [
      "d:\\CA_BTC\\venv\\Lib\\site-packages\\keras\\src\\layers\\rnn\\rnn.py:200: UserWarning: Do not pass an `input_shape`/`input_dim` argument to a layer. When using Sequential models, prefer using an `Input(shape)` object as the first layer in the model instead.\n",
      "  super().__init__(**kwargs)\n"
     ]
    },
    {
     "name": "stdout",
     "output_type": "stream",
     "text": [
      "\u001b[1m219/219\u001b[0m \u001b[32m━━━━━━━━━━━━━━━━━━━━\u001b[0m\u001b[37m\u001b[0m \u001b[1m1s\u001b[0m 3ms/step\n",
      "Bandymas 25/30: {'batch_size': 16, 'dropout': 0.2, 'epochs': 10, 'learning_rate': 0.001, 'optimizer': 'adam', 'units': 32}\n"
     ]
    },
    {
     "name": "stderr",
     "output_type": "stream",
     "text": [
      "d:\\CA_BTC\\venv\\Lib\\site-packages\\keras\\src\\layers\\rnn\\rnn.py:200: UserWarning: Do not pass an `input_shape`/`input_dim` argument to a layer. When using Sequential models, prefer using an `Input(shape)` object as the first layer in the model instead.\n",
      "  super().__init__(**kwargs)\n"
     ]
    },
    {
     "name": "stdout",
     "output_type": "stream",
     "text": [
      "\u001b[1m219/219\u001b[0m \u001b[32m━━━━━━━━━━━━━━━━━━━━\u001b[0m\u001b[37m\u001b[0m \u001b[1m1s\u001b[0m 3ms/step\n",
      "Bandymas 26/30: {'batch_size': 32, 'dropout': 0.3, 'epochs': 10, 'learning_rate': 0.0005, 'optimizer': 'adam', 'units': 32}\n"
     ]
    },
    {
     "name": "stderr",
     "output_type": "stream",
     "text": [
      "d:\\CA_BTC\\venv\\Lib\\site-packages\\keras\\src\\layers\\rnn\\rnn.py:200: UserWarning: Do not pass an `input_shape`/`input_dim` argument to a layer. When using Sequential models, prefer using an `Input(shape)` object as the first layer in the model instead.\n",
      "  super().__init__(**kwargs)\n"
     ]
    },
    {
     "name": "stdout",
     "output_type": "stream",
     "text": [
      "\u001b[1m219/219\u001b[0m \u001b[32m━━━━━━━━━━━━━━━━━━━━\u001b[0m\u001b[37m\u001b[0m \u001b[1m1s\u001b[0m 3ms/step\n",
      "Bandymas 27/30: {'batch_size': 16, 'dropout': 0.3, 'epochs': 20, 'learning_rate': 0.001, 'optimizer': 'rmsprop', 'units': 64}\n"
     ]
    },
    {
     "name": "stderr",
     "output_type": "stream",
     "text": [
      "d:\\CA_BTC\\venv\\Lib\\site-packages\\keras\\src\\layers\\rnn\\rnn.py:200: UserWarning: Do not pass an `input_shape`/`input_dim` argument to a layer. When using Sequential models, prefer using an `Input(shape)` object as the first layer in the model instead.\n",
      "  super().__init__(**kwargs)\n"
     ]
    },
    {
     "name": "stdout",
     "output_type": "stream",
     "text": [
      "\u001b[1m219/219\u001b[0m \u001b[32m━━━━━━━━━━━━━━━━━━━━\u001b[0m\u001b[37m\u001b[0m \u001b[1m1s\u001b[0m 3ms/step\n",
      "Bandymas 28/30: {'batch_size': 16, 'dropout': 0.1, 'epochs': 20, 'learning_rate': 0.0005, 'optimizer': 'adam', 'units': 64}\n"
     ]
    },
    {
     "name": "stderr",
     "output_type": "stream",
     "text": [
      "d:\\CA_BTC\\venv\\Lib\\site-packages\\keras\\src\\layers\\rnn\\rnn.py:200: UserWarning: Do not pass an `input_shape`/`input_dim` argument to a layer. When using Sequential models, prefer using an `Input(shape)` object as the first layer in the model instead.\n",
      "  super().__init__(**kwargs)\n"
     ]
    },
    {
     "name": "stdout",
     "output_type": "stream",
     "text": [
      "\u001b[1m219/219\u001b[0m \u001b[32m━━━━━━━━━━━━━━━━━━━━\u001b[0m\u001b[37m\u001b[0m \u001b[1m1s\u001b[0m 3ms/step\n",
      "Bandymas 29/30: {'batch_size': 64, 'dropout': 0.2, 'epochs': 30, 'learning_rate': 0.001, 'optimizer': 'adam', 'units': 32}\n"
     ]
    },
    {
     "name": "stderr",
     "output_type": "stream",
     "text": [
      "d:\\CA_BTC\\venv\\Lib\\site-packages\\keras\\src\\layers\\rnn\\rnn.py:200: UserWarning: Do not pass an `input_shape`/`input_dim` argument to a layer. When using Sequential models, prefer using an `Input(shape)` object as the first layer in the model instead.\n",
      "  super().__init__(**kwargs)\n"
     ]
    },
    {
     "name": "stdout",
     "output_type": "stream",
     "text": [
      "\u001b[1m219/219\u001b[0m \u001b[32m━━━━━━━━━━━━━━━━━━━━\u001b[0m\u001b[37m\u001b[0m \u001b[1m1s\u001b[0m 5ms/step\n",
      "Bandymas 30/30: {'batch_size': 32, 'dropout': 0.1, 'epochs': 10, 'learning_rate': 0.0005, 'optimizer': 'rmsprop', 'units': 32}\n"
     ]
    },
    {
     "name": "stderr",
     "output_type": "stream",
     "text": [
      "d:\\CA_BTC\\venv\\Lib\\site-packages\\keras\\src\\layers\\rnn\\rnn.py:200: UserWarning: Do not pass an `input_shape`/`input_dim` argument to a layer. When using Sequential models, prefer using an `Input(shape)` object as the first layer in the model instead.\n",
      "  super().__init__(**kwargs)\n"
     ]
    },
    {
     "name": "stdout",
     "output_type": "stream",
     "text": [
      "\u001b[1m219/219\u001b[0m \u001b[32m━━━━━━━━━━━━━━━━━━━━\u001b[0m\u001b[37m\u001b[0m \u001b[1m1s\u001b[0m 5ms/step\n"
     ]
    }
   ],
   "source": [
    "# Testuojame 30+ hiperparametrų kombinacijų ir prekybos strategijų\n",
    "results = []\n",
    "for i, params in enumerate(grid):\n",
    "    print(f\"Bandymas {i+1}/{len(grid)}: {params}\")\n",
    "    model = build_lstm_model(\n",
    "        input_shape=(X_train.shape[1], X_train.shape[2]),\n",
    "        units=params['units'],\n",
    "        dropout=params['dropout'],\n",
    "        learning_rate=params['learning_rate'],\n",
    "        optimizer=params['optimizer']\n",
    "    )\n",
    "    history = model.fit(\n",
    "        X_train, y_train,\n",
    "        epochs=params['epochs'],\n",
    "        batch_size=params['batch_size'],\n",
    "        validation_data=(X_test, y_test),\n",
    "        verbose=0\n",
    "    )\n",
    "    y_pred = model.predict(X_test)\n",
    "    # Atstatome į originalią skalę\n",
    "    dummy = np.zeros((len(y_pred), len(columns_to_normalize)))\n",
    "    dummy[:, columns_to_normalize.index(target_column)] = y_pred.flatten()\n",
    "    y_pred_original = scaler.inverse_transform(dummy)[:, columns_to_normalize.index(target_column)]\n",
    "    dummy_y = np.zeros((len(y_test), len(columns_to_normalize)))\n",
    "    dummy_y[:, columns_to_normalize.index(target_column)] = y_test.flatten()\n",
    "    y_test_original = scaler.inverse_transform(dummy_y)[:, columns_to_normalize.index(target_column)]\n",
    "    # ML metrikos\n",
    "    mse = mean_squared_error(y_test_original, y_pred_original)\n",
    "    rmse = np.sqrt(mse)\n",
    "    mae = mean_absolute_error(y_test_original, y_pred_original)\n",
    "    r2 = r2_score(y_test_original, y_pred_original)\n",
    "    mape = np.mean(np.abs((y_test_original - y_pred_original) / y_test_original)) * 100\n",
    "    # Prekybos strategijos parametrai (galite randomizuoti arba fiksuoti)\n",
    "    stop_loss = random.choice([0.01, 0.02, 0.03, 0.05])\n",
    "    take_profit = random.choice([0.03, 0.05, 0.07, 0.1])\n",
    "    position_size = random.choice([0.5, 1.0])\n",
    "    final_balance = trading_simulator(y_test_original, y_pred_original, stop_loss, take_profit, position_size)\n",
    "    results.append({\n",
    "        **params,\n",
    "        'stop_loss': stop_loss,\n",
    "        'take_profit': take_profit,\n",
    "        'position_size': position_size,\n",
    "        'rmse': rmse,\n",
    "        'mae': mae,\n",
    "        'r2': r2,\n",
    "        'mape': mape,\n",
    "        'final_balance': final_balance\n",
    "    })"
   ]
  },
  {
   "cell_type": "code",
   "execution_count": 8,
   "id": "639266b7",
   "metadata": {},
   "outputs": [
    {
     "data": {
      "text/html": [
       "<div>\n",
       "<style scoped>\n",
       "    .dataframe tbody tr th:only-of-type {\n",
       "        vertical-align: middle;\n",
       "    }\n",
       "\n",
       "    .dataframe tbody tr th {\n",
       "        vertical-align: top;\n",
       "    }\n",
       "\n",
       "    .dataframe thead th {\n",
       "        text-align: right;\n",
       "    }\n",
       "</style>\n",
       "<table border=\"1\" class=\"dataframe\">\n",
       "  <thead>\n",
       "    <tr style=\"text-align: right;\">\n",
       "      <th></th>\n",
       "      <th>batch_size</th>\n",
       "      <th>dropout</th>\n",
       "      <th>epochs</th>\n",
       "      <th>learning_rate</th>\n",
       "      <th>optimizer</th>\n",
       "      <th>units</th>\n",
       "      <th>stop_loss</th>\n",
       "      <th>take_profit</th>\n",
       "      <th>position_size</th>\n",
       "      <th>rmse</th>\n",
       "      <th>mae</th>\n",
       "      <th>r2</th>\n",
       "      <th>mape</th>\n",
       "      <th>final_balance</th>\n",
       "    </tr>\n",
       "  </thead>\n",
       "  <tbody>\n",
       "    <tr>\n",
       "      <th>27</th>\n",
       "      <td>16</td>\n",
       "      <td>0.1</td>\n",
       "      <td>20</td>\n",
       "      <td>0.0005</td>\n",
       "      <td>adam</td>\n",
       "      <td>64</td>\n",
       "      <td>0.03</td>\n",
       "      <td>0.07</td>\n",
       "      <td>0.5</td>\n",
       "      <td>467.793855</td>\n",
       "      <td>407.433835</td>\n",
       "      <td>0.996758</td>\n",
       "      <td>0.449874</td>\n",
       "      <td>1018.777820</td>\n",
       "    </tr>\n",
       "    <tr>\n",
       "      <th>4</th>\n",
       "      <td>16</td>\n",
       "      <td>0.2</td>\n",
       "      <td>20</td>\n",
       "      <td>0.0010</td>\n",
       "      <td>rmsprop</td>\n",
       "      <td>32</td>\n",
       "      <td>0.02</td>\n",
       "      <td>0.10</td>\n",
       "      <td>1.0</td>\n",
       "      <td>1025.822974</td>\n",
       "      <td>936.982588</td>\n",
       "      <td>0.984411</td>\n",
       "      <td>1.019567</td>\n",
       "      <td>1002.079551</td>\n",
       "    </tr>\n",
       "    <tr>\n",
       "      <th>8</th>\n",
       "      <td>32</td>\n",
       "      <td>0.2</td>\n",
       "      <td>10</td>\n",
       "      <td>0.0010</td>\n",
       "      <td>rmsprop</td>\n",
       "      <td>32</td>\n",
       "      <td>0.02</td>\n",
       "      <td>0.05</td>\n",
       "      <td>0.5</td>\n",
       "      <td>1016.464597</td>\n",
       "      <td>917.675041</td>\n",
       "      <td>0.984694</td>\n",
       "      <td>0.997079</td>\n",
       "      <td>991.806697</td>\n",
       "    </tr>\n",
       "    <tr>\n",
       "      <th>6</th>\n",
       "      <td>16</td>\n",
       "      <td>0.2</td>\n",
       "      <td>20</td>\n",
       "      <td>0.0010</td>\n",
       "      <td>rmsprop</td>\n",
       "      <td>64</td>\n",
       "      <td>0.05</td>\n",
       "      <td>0.07</td>\n",
       "      <td>1.0</td>\n",
       "      <td>673.970334</td>\n",
       "      <td>609.908593</td>\n",
       "      <td>0.993271</td>\n",
       "      <td>0.668011</td>\n",
       "      <td>971.683682</td>\n",
       "    </tr>\n",
       "    <tr>\n",
       "      <th>1</th>\n",
       "      <td>16</td>\n",
       "      <td>0.2</td>\n",
       "      <td>10</td>\n",
       "      <td>0.0005</td>\n",
       "      <td>rmsprop</td>\n",
       "      <td>64</td>\n",
       "      <td>0.01</td>\n",
       "      <td>0.07</td>\n",
       "      <td>0.5</td>\n",
       "      <td>761.411167</td>\n",
       "      <td>709.019898</td>\n",
       "      <td>0.991411</td>\n",
       "      <td>0.788784</td>\n",
       "      <td>967.566058</td>\n",
       "    </tr>\n",
       "    <tr>\n",
       "      <th>10</th>\n",
       "      <td>64</td>\n",
       "      <td>0.3</td>\n",
       "      <td>10</td>\n",
       "      <td>0.0010</td>\n",
       "      <td>rmsprop</td>\n",
       "      <td>64</td>\n",
       "      <td>0.02</td>\n",
       "      <td>0.05</td>\n",
       "      <td>1.0</td>\n",
       "      <td>920.564527</td>\n",
       "      <td>842.408975</td>\n",
       "      <td>0.987446</td>\n",
       "      <td>0.920368</td>\n",
       "      <td>966.689299</td>\n",
       "    </tr>\n",
       "    <tr>\n",
       "      <th>2</th>\n",
       "      <td>16</td>\n",
       "      <td>0.1</td>\n",
       "      <td>10</td>\n",
       "      <td>0.0005</td>\n",
       "      <td>rmsprop</td>\n",
       "      <td>32</td>\n",
       "      <td>0.01</td>\n",
       "      <td>0.03</td>\n",
       "      <td>0.5</td>\n",
       "      <td>837.213100</td>\n",
       "      <td>772.904694</td>\n",
       "      <td>0.989616</td>\n",
       "      <td>0.849926</td>\n",
       "      <td>945.101560</td>\n",
       "    </tr>\n",
       "    <tr>\n",
       "      <th>26</th>\n",
       "      <td>16</td>\n",
       "      <td>0.3</td>\n",
       "      <td>20</td>\n",
       "      <td>0.0010</td>\n",
       "      <td>rmsprop</td>\n",
       "      <td>64</td>\n",
       "      <td>0.03</td>\n",
       "      <td>0.10</td>\n",
       "      <td>0.5</td>\n",
       "      <td>399.171204</td>\n",
       "      <td>323.623430</td>\n",
       "      <td>0.997640</td>\n",
       "      <td>0.358626</td>\n",
       "      <td>832.756136</td>\n",
       "    </tr>\n",
       "    <tr>\n",
       "      <th>16</th>\n",
       "      <td>32</td>\n",
       "      <td>0.2</td>\n",
       "      <td>10</td>\n",
       "      <td>0.0010</td>\n",
       "      <td>adam</td>\n",
       "      <td>32</td>\n",
       "      <td>0.01</td>\n",
       "      <td>0.03</td>\n",
       "      <td>1.0</td>\n",
       "      <td>802.891741</td>\n",
       "      <td>699.871083</td>\n",
       "      <td>0.990450</td>\n",
       "      <td>0.758378</td>\n",
       "      <td>808.959006</td>\n",
       "    </tr>\n",
       "    <tr>\n",
       "      <th>14</th>\n",
       "      <td>32</td>\n",
       "      <td>0.2</td>\n",
       "      <td>10</td>\n",
       "      <td>0.0005</td>\n",
       "      <td>adam</td>\n",
       "      <td>64</td>\n",
       "      <td>0.01</td>\n",
       "      <td>0.07</td>\n",
       "      <td>0.5</td>\n",
       "      <td>427.489672</td>\n",
       "      <td>346.463046</td>\n",
       "      <td>0.997293</td>\n",
       "      <td>0.385243</td>\n",
       "      <td>792.119111</td>\n",
       "    </tr>\n",
       "  </tbody>\n",
       "</table>\n",
       "</div>"
      ],
      "text/plain": [
       "    batch_size  dropout  epochs  learning_rate optimizer  units  stop_loss  \\\n",
       "27          16      0.1      20         0.0005      adam     64       0.03   \n",
       "4           16      0.2      20         0.0010   rmsprop     32       0.02   \n",
       "8           32      0.2      10         0.0010   rmsprop     32       0.02   \n",
       "6           16      0.2      20         0.0010   rmsprop     64       0.05   \n",
       "1           16      0.2      10         0.0005   rmsprop     64       0.01   \n",
       "10          64      0.3      10         0.0010   rmsprop     64       0.02   \n",
       "2           16      0.1      10         0.0005   rmsprop     32       0.01   \n",
       "26          16      0.3      20         0.0010   rmsprop     64       0.03   \n",
       "16          32      0.2      10         0.0010      adam     32       0.01   \n",
       "14          32      0.2      10         0.0005      adam     64       0.01   \n",
       "\n",
       "    take_profit  position_size         rmse         mae        r2      mape  \\\n",
       "27         0.07            0.5   467.793855  407.433835  0.996758  0.449874   \n",
       "4          0.10            1.0  1025.822974  936.982588  0.984411  1.019567   \n",
       "8          0.05            0.5  1016.464597  917.675041  0.984694  0.997079   \n",
       "6          0.07            1.0   673.970334  609.908593  0.993271  0.668011   \n",
       "1          0.07            0.5   761.411167  709.019898  0.991411  0.788784   \n",
       "10         0.05            1.0   920.564527  842.408975  0.987446  0.920368   \n",
       "2          0.03            0.5   837.213100  772.904694  0.989616  0.849926   \n",
       "26         0.10            0.5   399.171204  323.623430  0.997640  0.358626   \n",
       "16         0.03            1.0   802.891741  699.871083  0.990450  0.758378   \n",
       "14         0.07            0.5   427.489672  346.463046  0.997293  0.385243   \n",
       "\n",
       "    final_balance  \n",
       "27    1018.777820  \n",
       "4     1002.079551  \n",
       "8      991.806697  \n",
       "6      971.683682  \n",
       "1      967.566058  \n",
       "10     966.689299  \n",
       "2      945.101560  \n",
       "26     832.756136  \n",
       "16     808.959006  \n",
       "14     792.119111  "
      ]
     },
     "metadata": {},
     "output_type": "display_data"
    },
    {
     "name": "stdout",
     "output_type": "stream",
     "text": [
      "Rezultatai išsaugoti į ../../models/hyperparameter_optimization_results.csv\n"
     ]
    }
   ],
   "source": [
    "# Rezultatų ataskaitos lentelė\n",
    "df_results = pd.DataFrame(results)\n",
    "display(df_results.sort_values('final_balance', ascending=False).head(10))\n",
    "df_results.to_csv('../../models/hyperparameter_optimization_results.csv', index=False)\n",
    "print(\"Rezultatai išsaugoti į ../../models/hyperparameter_optimization_results.csv\")"
   ]
  }
 ],
 "metadata": {
  "kernelspec": {
   "display_name": "venv",
   "language": "python",
   "name": "python3"
  },
  "language_info": {
   "codemirror_mode": {
    "name": "ipython",
    "version": 3
   },
   "file_extension": ".py",
   "mimetype": "text/x-python",
   "name": "python",
   "nbconvert_exporter": "python",
   "pygments_lexer": "ipython3",
   "version": "3.12.7"
  }
 },
 "nbformat": 4,
 "nbformat_minor": 5
}
